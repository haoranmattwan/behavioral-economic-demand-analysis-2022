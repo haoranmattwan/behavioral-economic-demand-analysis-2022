{
 "cells": [
  {
   "cell_type": "markdown",
   "id": "39c0c33b",
   "metadata": {},
   "source": [
    "# A Behavioral-Economic Analysis of Demand for Social and Food Reinforcement in Rats\n",
    "\n",
    "This notebook replicates the own- and cross-price demand curve analyses from the publication:\n",
    "\n",
    "> Kirkman, C., Wan, H., & Hackenberg, T. D. (2022). A behavioral-economic analysis of demand and preference for social and food reinforcement in rats. *Learning and Motivation*, *77*, 101780. https://doi.org/10.1016/j.lmot.2021.101780\n",
    "\n",
    "The analysis fits nonlinear and linear models to experimental data to quantify demand for food and social reinforcers in rats. This script uses `pandas` for data manipulation and `scipy` for nonlinear model fitting."
   ]
  },
  {
   "cell_type": "code",
   "execution_count": 34,
   "id": "988b42b8",
   "metadata": {},
   "outputs": [],
   "source": [
    "import pandas as pd\n",
    "import numpy as np\n",
    "from scipy.optimize import curve_fit\n",
    "from lmfit import Model, Parameters\n",
    "import warnings\n",
    "\n",
    "# Suppress warnings from curve_fit, which can be verbose\n",
    "warnings.filterwarnings(\"ignore\")\n",
    "\n",
    "# Set the display format for floating-point numbers to 3 decimal places\n",
    "pd.options.display.float_format = '{:.3f}'.format\n",
    "\n",
    "# --- Helper Functions (translated from R) ---\n",
    "def lhs(x):\n",
    "    \"\"\"Inverse Hyperbolic Sine (log-like) transformation.\"\"\"\n",
    "    return np.log10(0.5 * x + np.sqrt(0.25 * (x**2) + 1))\n",
    "\n",
    "# --- Load Data ---\n",
    "behav_data = pd.read_csv(\"Data/data with bl mean.csv\")\n",
    "# Add transformed consumption columns for modeling\n",
    "behav_data['foodr_lhs'] = lhs(behav_data['foodr'])\n",
    "behav_data['socr_lhs'] = lhs(behav_data['socr'])"
   ]
  },
  {
   "cell_type": "code",
   "execution_count": 35,
   "id": "46b9c8ba",
   "metadata": {},
   "outputs": [],
   "source": [
    "# --- Define the behavioral-economic model functions ---\n",
    "\n",
    "def zbe_model(price, q0, alpha):\n",
    "    \"\"\"\n",
    "    Zero-Bounded Exponential (ZBEn) model for own-price demand.\n",
    "    Note: The function is defined in terms of the transformed `lhs` space.\n",
    "    \"\"\"\n",
    "    return lhs(q0) * np.exp(((-alpha) / lhs(q0)) * q0 * price)\n",
    "\n",
    "def cross_price_exp_model(price, q_alone, i, b):\n",
    "    \"\"\"\n",
    "    Exponential cross-price elasticity model.\n",
    "    Note: This models raw consumption, not the lhs-transformed version.\n",
    "    \"\"\"\n",
    "    return np.log10(q_alone) + i * np.exp(-b * price)"
   ]
  },
  {
   "cell_type": "markdown",
   "id": "d6a26162",
   "metadata": {},
   "source": [
    "## Phase 1: Food Price Varied, Social Price Constant\n",
    "\n",
    "In this phase, we analyze own-price demand for food and cross-price demand for social interaction."
   ]
  },
  {
   "cell_type": "code",
   "execution_count": 36,
   "id": "6501c9d6",
   "metadata": {},
   "outputs": [
    {
     "name": "stdout",
     "output_type": "stream",
     "text": [
      "--- Phase 1: Own-Price Food Demand (ZBEn Model) ---\n",
      "   subj      q0  alpha\n",
      "0     1 177.745  0.000\n",
      "1     2 260.448  0.000\n",
      "2     3 393.347  0.000\n",
      "3     4 217.576  0.000\n",
      "\n",
      "--- Phase 1: Cross-Price Social Demand (Exponential Model) ---\n",
      "   subj                                           Q_alone       I  \\\n",
      "0     1                                        231454.270  31.369   \n",
      "1     2                135935571189553077440617644032.000 -63.011   \n",
      "2     3 912010838418402909757689809298942069607235584.000 249.541   \n",
      "3     4                                     583665967.630  16.609   \n",
      "\n",
      "              beta  \n",
      "0            0.000  \n",
      "1 319044590961.900  \n",
      "2          248.734  \n",
      "3            0.000  \n"
     ]
    }
   ],
   "source": [
    "# --- Own-Price Food Demand (ZBEn Model) ---\n",
    "print(\"--- Phase 1: Own-Price Food Demand (ZBEn Model) ---\")\n",
    "zbe_model_obj = Model(zbe_model, independent_vars=['price'])\n",
    "p1_data = behav_data[behav_data['cond'] == 1]\n",
    "results_list_own_p1 = []\n",
    "\n",
    "for subj_id, df in p1_data.groupby('subj'):\n",
    "    params = Parameters()\n",
    "    params.add('q0', value=50, min=0)\n",
    "    params.add('alpha', value=0.0001, min=0)\n",
    "    \n",
    "    result = zbe_model_obj.fit(df['foodr_lhs'], params, price=df['foodfr'])\n",
    "    fit_params = result.best_values\n",
    "    results_list_own_p1.append({'subj': subj_id, **fit_params})\n",
    "\n",
    "own_price_food_p1_lmfit = pd.DataFrame(results_list_own_p1)\n",
    "print(own_price_food_p1_lmfit)\n",
    "\n",
    "\n",
    "# --- Cross-Price Social Demand (Exponential Model) ---\n",
    "print(\"\\n--- Phase 1: Cross-Price Social Demand (Exponential Model) ---\")\n",
    "exp_model_obj = Model(cross_price_exp_model, independent_vars=['price'])\n",
    "results_list_cross_p1 = []\n",
    "\n",
    "for subj_id, df in p1_data.groupby('subj'):\n",
    "    params = Parameters()\n",
    "    params.add('q_alone', value=100, min=0)\n",
    "    params.add('i', value=1)\n",
    "    params.add('b', value=0.01, min=0)\n",
    "    \n",
    "    result = exp_model_obj.fit(df['socr'], params, price=df['foodfr'])\n",
    "    fit_params = result.best_values\n",
    "    results_list_cross_p1.append({'subj': subj_id, 'Q_alone': fit_params['q_alone'], 'I': fit_params['i'], 'beta': fit_params['b']})\n",
    "\n",
    "cross_price_social_p1_lmfit = pd.DataFrame(results_list_cross_p1)\n",
    "print(cross_price_social_p1_lmfit)"
   ]
  },
  {
   "cell_type": "markdown",
   "id": "f2151e72",
   "metadata": {},
   "source": [
    "## Phase 2: Social Price Varied, Food Price Constant\n",
    "\n",
    "Here, we analyze own-price demand for social interaction and cross-price demand for food."
   ]
  },
  {
   "cell_type": "code",
   "execution_count": 37,
   "id": "b6389fdf",
   "metadata": {},
   "outputs": [
    {
     "name": "stdout",
     "output_type": "stream",
     "text": [
      "--- Phase 2: Own-Price Social Demand (ZBEn Model) ---\n",
      "   subj     q0  alpha\n",
      "0     1 36.600  0.004\n",
      "1     2 67.848  0.003\n",
      "2     3 15.308  0.011\n",
      "3     4 48.438  0.004\n",
      "\n",
      "--- Phase 2: Cross-Price Food Demand (Exponential Model) ---\n",
      "   subj                                            Q_alone       I   beta\n",
      "0     1 48903866479660579142642000455998361332897238701...  15.598 -0.074\n",
      "1     2                                       51667831.075 196.441 -0.000\n",
      "2     3 15727811058958733523221124004665647997409225195...  55.178  0.437\n",
      "3     4 13989955337764378763772905330157635119202573126...  22.842 -0.100\n"
     ]
    }
   ],
   "source": [
    "print(\"--- Phase 2: Own-Price Social Demand (ZBEn Model) ---\")\n",
    "p2_data = behav_data[behav_data['cond'] == 2]\n",
    "results_list_own_p2 = []\n",
    "\n",
    "for subj_id, df in p2_data.groupby('subj'):\n",
    "    params = Parameters()\n",
    "    params.add('q0', value=50, min=0)\n",
    "    params.add('alpha', value=0.0001, min=0)\n",
    "    \n",
    "    result = zbe_model_obj.fit(df['socr_lhs'], params, price=df['socfr'])\n",
    "    fit_params = result.best_values\n",
    "    results_list_own_p2.append({'subj': subj_id, **fit_params})\n",
    "\n",
    "own_price_social_p2_lmfit = pd.DataFrame(results_list_own_p2)\n",
    "print(own_price_social_p2_lmfit)\n",
    "\n",
    "\n",
    "print(\"\\n--- Phase 2: Cross-Price Food Demand (Exponential Model) ---\")\n",
    "results_list_cross_p2 = []\n",
    "\n",
    "for subj_id, df in p2_data.groupby('subj'):\n",
    "    params = Parameters()\n",
    "    params.add('q_alone', value=10000)\n",
    "    params.add('i', value=100)\n",
    "    params.add('b', value=0.1)\n",
    "    \n",
    "    result = exp_model_obj.fit(df['foodr'], params, price=df['socfr'])\n",
    "    fit_params = result.best_values\n",
    "    results_list_cross_p2.append({'subj': subj_id, 'Q_alone': fit_params['q_alone'], 'I': fit_params['i'], 'beta': fit_params['b']})\n",
    "\n",
    "cross_price_food_p2_lmfit = pd.DataFrame(results_list_cross_p2)\n",
    "print(cross_price_food_p2_lmfit)"
   ]
  },
  {
   "cell_type": "markdown",
   "id": "c0a88329",
   "metadata": {},
   "source": [
    "## Phase 3: Concurrent Price Increase\n",
    "\n",
    "In this phase, the prices of both reinforcers increased together. We fit own-price demand curves for both food and social interaction."
   ]
  },
  {
   "cell_type": "code",
   "execution_count": 38,
   "id": "35279b76",
   "metadata": {},
   "outputs": [
    {
     "name": "stdout",
     "output_type": "stream",
     "text": [
      "--- Phase 3: Own-Price Food Demand (ZBEn Model) ---\n",
      "   subj      q0  alpha\n",
      "0     2 159.777  0.000\n",
      "1     3 195.924  0.000\n",
      "\n",
      "--- Phase 3: Own-Price Social Demand (ZBEn Model) ---\n",
      "   subj     q0  alpha\n",
      "0     2 64.046  0.001\n",
      "1     3 55.452  0.005\n"
     ]
    }
   ],
   "source": [
    "print(\"--- Phase 3: Own-Price Food Demand (ZBEn Model) ---\")\n",
    "p3_data = behav_data[behav_data['cond'] == 3]\n",
    "results_list_food_p3 = []\n",
    "\n",
    "for subj_id, df in p3_data.groupby('subj'):\n",
    "    params = Parameters()\n",
    "    params.add('q0', value=50, min=0)\n",
    "    params.add('alpha', value=0.0001, min=0)\n",
    "    \n",
    "    result = zbe_model_obj.fit(df['foodr_lhs'], params, price=df['foodfr'])\n",
    "    fit_params = result.best_values\n",
    "    results_list_food_p3.append({'subj': subj_id, **fit_params})\n",
    "\n",
    "own_price_food_p3_lmfit = pd.DataFrame(results_list_food_p3)\n",
    "print(own_price_food_p3_lmfit)\n",
    "\n",
    "\n",
    "print(\"\\n--- Phase 3: Own-Price Social Demand (ZBEn Model) ---\")\n",
    "results_list_social_p3 = []\n",
    "\n",
    "for subj_id, df in p3_data.groupby('subj'):\n",
    "    params = Parameters()\n",
    "    params.add('q0', value=50, min=0)\n",
    "    params.add('alpha', value=0.0001, min=0)\n",
    "    \n",
    "    result = zbe_model_obj.fit(df['socr_lhs'], params, price=df['socfr'])\n",
    "    fit_params = result.best_values\n",
    "    results_list_social_p3.append({'subj': subj_id, **fit_params})\n",
    "\n",
    "own_price_social_p3_lmfit = pd.DataFrame(results_list_social_p3)\n",
    "print(own_price_social_p3_lmfit)"
   ]
  },
  {
   "cell_type": "markdown",
   "id": "4b2595ba",
   "metadata": {},
   "source": [
    "## Phase 4: Food Price Varied (Alone)\n",
    "\n",
    "In this final phase, food price was varied without a concurrent social alternative. This allows for a direct comparison of food demand elasticity in the presence versus absence of a substitute."
   ]
  },
  {
   "cell_type": "code",
   "execution_count": 39,
   "id": "61ed069a",
   "metadata": {},
   "outputs": [
    {
     "name": "stdout",
     "output_type": "stream",
     "text": [
      "--- Phase 4: Own-Price Food Demand (ZBEn Model, No Social Alternative) ---\n",
      "   subj      q0  alpha\n",
      "0     2 273.148  0.000\n",
      "1     3 193.248  0.000\n"
     ]
    }
   ],
   "source": [
    "print(\"--- Phase 4: Own-Price Food Demand (ZBEn Model, No Social Alternative) ---\")\n",
    "p4_data = behav_data[behav_data['cond'] == 4]\n",
    "results_list_p4 = []\n",
    "\n",
    "for subj_id, df in p4_data.groupby('subj'):\n",
    "    params = Parameters()\n",
    "    params.add('q0', value=50, min=0)\n",
    "    params.add('alpha', value=0.0001, min=0)\n",
    "    \n",
    "    result = zbe_model_obj.fit(df['foodr_lhs'], params, price=df['foodfr'])\n",
    "    fit_params = result.best_values\n",
    "    results_list_p4.append({'subj': subj_id, **fit_params})\n",
    "\n",
    "own_price_food_p4_lmfit = pd.DataFrame(results_list_p4)\n",
    "print(own_price_food_p4_lmfit)"
   ]
  }
 ],
 "metadata": {
  "language_info": {
   "name": "python"
  }
 },
 "nbformat": 4,
 "nbformat_minor": 5
}
